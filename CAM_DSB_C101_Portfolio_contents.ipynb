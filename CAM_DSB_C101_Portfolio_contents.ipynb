{
  "nbformat": 4,
  "nbformat_minor": 0,
  "metadata": {
    "colab": {
      "provenance": [],
      "collapsed_sections": [
        "vDPdtpFWNfoV",
        "LwR2eQZ8VszP",
        "vow84sVueCOp",
        "XXNjzj10eJFX",
        "7Qn6X31DeQk3"
      ],
      "include_colab_link": true
    },
    "kernelspec": {
      "name": "python3",
      "display_name": "Python 3"
    },
    "language_info": {
      "name": "python"
    }
  },
  "cells": [
    {
      "cell_type": "markdown",
      "metadata": {
        "id": "view-in-github",
        "colab_type": "text"
      },
      "source": [
        "<a href=\"https://colab.research.google.com/github/fourthrevlxd/cam_dsb/blob/main/CAM_DSB_C101_Portfolio_contents.ipynb\" target=\"_parent\"><img src=\"https://colab.research.google.com/assets/colab-badge.svg\" alt=\"Open In Colab\"/></a>"
      ]
    },
    {
      "cell_type": "markdown",
      "source": [
        "**First things first** - please go to 'File' and select 'Save a copy in Drive' so that you have your own version of this activity set up and ready to use.\n",
        "Remember to update the portfolio index link to your own work once completed!"
      ],
      "metadata": {
        "id": "kBoaExyJVCGe"
      }
    },
    {
      "cell_type": "markdown",
      "source": [
        "# Welcome to Course 101: Applying statistics and core data science techniques in business.\n",
        "\n",
        "Throughout the course, you will learn to:\n",
        "\n",
        "1. Systematically analyse complex organisational challenges to enhance problem-solving skills and propose strategic solutions.\n",
        "2. Develop advanced critical and statistical thinking skills by identifying meaningful patterns in complex data.\n",
        "3. Evaluate and select statistical techniques appropriate to a solutions design approach.\n",
        "4. Synthesise and systematically implement techniques to enhance data representation and improve model performance.\n",
        "5. Critically select, evaluate and implement effective unsupervised learning techniques to design innovative solutions.\n",
        "\n",
        "This will be the index page for your portfolio. For each activity in the Course, you will need to save a copy of the provided template, complete it, and update the link in this index to direct your tutors, peers, and potential employers to your own work.\n",
        "\n",
        "You will also complete reflections relating to each demonstration and activity throughout the course in this section of your portfolio.\n",
        "\n",
        "Here is a link to the [Orientation content](https://colab.research.google.com/drive/1bAE7vviDHiU1bQipsB5hFvF-IyCiPMdd?usp=sharing), if you need a recap on how to use Colab."
      ],
      "metadata": {
        "id": "3k2rPGoAHyqU"
      }
    },
    {
      "cell_type": "markdown",
      "source": [
        "# Week 1: Developing commercial awareness through statistical thinking\n",
        "\n",
        "**Throughout the week, you will learn to:**\n",
        "1. Systematically analyse a range of organisational scenarios to identify key strategic issues.\n",
        "2. Develop advanced problem-solving skills by applying statistical thinking.\n",
        "3. Design effective solution paths through systematic critical thinking and problem-solving techniques.\n",
        "4. Critically compare and evaluate a range of solutions to design effective outcomes.\n"
      ],
      "metadata": {
        "id": "vDPdtpFWNfoV"
      }
    },
    {
      "cell_type": "markdown",
      "source": [
        "\n",
        "Please use these templates to create new Notebooks for consistency across courses and weeks:\n",
        "- [Demonstrations/videos](https://colab.research.google.com/drive/1xwO9vmyJRugO97nWD7t-cJLgwxa7sSLv?usp=drive_link)\n",
        "- [Activities](https://colab.research.google.com/drive/1ADe5K8kVrx36uTkE-7Fmbn2DKwT0oiym)"
      ],
      "metadata": {
        "id": "ZGnPvs3DZKBS"
      }
    },
    {
      "cell_type": "markdown",
      "source": [
        "[**Activity 1.1.4** Using statistical thinking to analyse and define a business problem from a given scenario.](https://colab.research.google.com/drive/15CFf6_Y-EF0vX1laBXqSbPUo_i_1P9K1?usp=sharing)"
      ],
      "metadata": {
        "id": "d_UVXWrCI2Tt"
      }
    },
    {
      "cell_type": "markdown",
      "source": [
        "[**Activity 1.2.3** Developing a hypothesis and presenting a proposed solution](https://colab.research.google.com/drive/1wW9PV2deTQWENKUmJUntZ-htIFQngcj8?usp=sharing)"
      ],
      "metadata": {
        "id": "1eAXGgnONVCT"
      }
    },
    {
      "cell_type": "markdown",
      "source": [
        "[**Activity 1.2.5** Using feature engineering as a problem-solving tool](https://colab.research.google.com/drive/1TtOiQ9GL6aid2dG5uzoepSFnV_lQc3Ub?usp=sharing)\n",
        "\n"
      ],
      "metadata": {
        "id": "0Na5Y2y3OFXS"
      }
    },
    {
      "cell_type": "markdown",
      "source": [
        "[**Demonstration 1.3.1** Normal and binomial distribution](https://colab.research.google.com/drive/1B9EGAMq0MKGth5kFWZ_QRLmAzzjx6WOQ)"
      ],
      "metadata": {
        "id": "0pDxIrbA06cc"
      }
    },
    {
      "cell_type": "markdown",
      "source": [
        "[**Demonstration 1.3.2** Simulating random events using Python](https://colab.research.google.com/drive/1qy6Z4JmAT2PGS_afP-H7uHjFgTwKieD0?usp=sharing)"
      ],
      "metadata": {
        "id": "bBJZ4h7mQtNZ"
      }
    },
    {
      "cell_type": "markdown",
      "source": [
        "[**Activity 1.3.3** Simulating random events using Python](https://colab.research.google.com/drive/1neVKZAw0akbqPwzqFRE3xvdiFgtfPG9v?usp=sharing)"
      ],
      "metadata": {
        "id": "u70NiE0DR0Iy"
      }
    },
    {
      "cell_type": "markdown",
      "source": [
        "## Week 1 Reflection\n",
        "Now that you've completed Week 1, it's time to reflect on your learning.\n",
        "\n",
        "**Reflection prompts:**\n",
        "1. What was the most interesting part of this week's learning? Why?\n",
        "2. What did you find the most challenging? Why?\n",
        "3. What, so far, will be the most applicable to your current or future career? Why?\n",
        "\n",
        "> Type your reflection here:"
      ],
      "metadata": {
        "id": "HZB2RGibUe2h"
      }
    },
    {
      "cell_type": "markdown",
      "source": [
        "# Week 2: Applying advanced statistical techniques for data science\n",
        "\n",
        "**Throughout the week, you will learn to:**\n",
        "1. Develop proficiency in hypothesis testing using Python for data-driven decision-making.\n",
        "2. Investigate data systematically to identify causal links, account for biases, and assess confounding variables.\n",
        "3. Interpret statistical test results rigorously, identifying and addressing assumptions and limitations.\n",
        "4. Critically analyse outputs to evaluate predictive models, accurately interpreting relevant metrics to ensure generalisability.\n"
      ],
      "metadata": {
        "id": "LwR2eQZ8VszP"
      }
    },
    {
      "cell_type": "markdown",
      "source": [
        "\n",
        "Please use these templates to create new Notebooks for consistency across courses and weeks:\n",
        "- [Demonstrations/videos](https://colab.research.google.com/drive/1xwO9vmyJRugO97nWD7t-cJLgwxa7sSLv?usp=drive_link)\n",
        "- [Activities](https://colab.research.google.com/drive/1ADe5K8kVrx36uTkE-7Fmbn2DKwT0oiym)"
      ],
      "metadata": {
        "id": "CGfOBk7JZFbv"
      }
    },
    {
      "cell_type": "markdown",
      "source": [
        "[**Demonstration 2.1.2**\n",
        "Testing hypotheses with t-tests, ANOVA, and Chi-square](https://colab.research.google.com/drive/1799HucGrx9j34euT6x2_geidPoWG4iZV?usp=sharing)"
      ],
      "metadata": {
        "id": "1_Aanj7MCfIp"
      }
    },
    {
      "cell_type": "markdown",
      "source": [
        "[**Activity 2.1.3** Applying hypothesis testing to organisational scenarios](https://colab.research.google.com/drive/1ZjLnX-xZIGwLACbkY8KQLpNjTQps42Cw?usp=sharing)"
      ],
      "metadata": {
        "id": "y8oyCTZVFILd"
      }
    },
    {
      "cell_type": "markdown",
      "source": [
        "[**Demonstration 2.2.1** Measuring correlation](https://colab.research.google.com/drive/1lcmoAs3pgIu9zKuaIjitL8ozo0DArf8j?usp=sharing)"
      ],
      "metadata": {
        "id": "XjVndb_zD0Sp"
      }
    },
    {
      "cell_type": "markdown",
      "source": [
        "[**Demonstration 2.2.2**  Pitfalls and best practices in interpreting correlation](https://colab.research.google.com/drive/1-kVWVgpGS6vTCSP7eCfa5tv0kdxhHyKf?usp=sharing)"
      ],
      "metadata": {
        "id": "1iW2TqxGyHOk"
      }
    },
    {
      "cell_type": "markdown",
      "source": [
        "[**Activity 2.2.3** Interpreting correlation and causation](https://colab.research.google.com/drive/1HGFV2fj5CkGTM-qd3qJpoRYFyv1xqKUy?usp=sharing)"
      ],
      "metadata": {
        "id": "KyTazMk5yF2x"
      }
    },
    {
      "cell_type": "markdown",
      "source": [
        "[**Demonstration 2.3.1** Predicting with regression](https://colab.research.google.com/drive/11NqBkUdHuo-1a2gdz1qXMaRxQQL-DKu6?usp=sharing)\n"
      ],
      "metadata": {
        "id": "KsiWivKpyGsO"
      }
    },
    {
      "cell_type": "markdown",
      "source": [
        "[**Demonstration 2.3.2** Exploring coefficients, intercepts, and residuals](https://colab.research.google.com/drive/1uiBL4Engf9kmgbhcOPaWnnS-NaAkqxd5?usp=drive_link)"
      ],
      "metadata": {
        "id": "UFK_Bhgepc24"
      }
    },
    {
      "cell_type": "markdown",
      "source": [
        "[**Demonstration 2.3.4** Making predictions with linear and multiple regression models](https://colab.research.google.com/drive/1ov06Z-xfAZTWp1NRPzE3VELYf6-c1ZLb?usp=sharing)\n",
        "\n",
        "*This data set needs to be added to GitHub and the code updated to call the data from there. *"
      ],
      "metadata": {
        "id": "5TkWR7hvB-Oo"
      }
    },
    {
      "cell_type": "markdown",
      "source": [
        "[**Activity 2.3.5:** Building models, interpreting results](https://colab.research.google.com/drive/1twW9tW-MS-iOpc5GWHZZBARkIAPQ4zug?usp=sharing)"
      ],
      "metadata": {
        "id": "YFlZYaioafov"
      }
    },
    {
      "cell_type": "markdown",
      "source": [
        "[**Demonstration 2.3.6** Identifying opportunities and challenges in regression modelling](https://colab.research.google.com/drive/1l_33hMaIORDaf0K2iBZ7nPD1g1bNSbVM?usp=sharing)\n",
        "\n",
        "This is incomplete. Please use generated data to:  \n",
        "- identify potential violations of the regression assumptions (linearity, independence, normality, homoscedasticity)\n",
        "- identify any signs of multicollinearity, autocorrelation, or heteroscedasticity\n",
        "- propose strategies to address these challenges\n"
      ],
      "metadata": {
        "id": "ZQF34xc8Pzbt"
      }
    },
    {
      "cell_type": "markdown",
      "source": [
        "## Week 2 Reflection\n",
        "Now that you have completed Week 2, it's time to reflect on your learning.\n",
        "\n",
        "**Reflection prompts:**\n",
        "1. What was the most interesting part of this week's learning? Why?\n",
        "2. What did you find the most challenging? Why?\n",
        "3. What, so far, will be the most applicable to your current or future career? Why?\n",
        "\n",
        "> Type your reflection here:"
      ],
      "metadata": {
        "id": "bzFa0EdG95e5"
      }
    },
    {
      "cell_type": "markdown",
      "source": [
        "# Week 3: Taking a critical approach to selecting statistical techniques\n",
        "\n",
        "**Throughout the week, you will learn to:**\n",
        "1. Synthesise Bayesian thinking to identify patterns and infer probabilities in organisational contexts.\n",
        "2. Analyse diverse data characteristics to accurately apply parametric and non-parametric methods.\n",
        "3. Critically compare and select appropriate statistical tests, ensuring robustness and accuracy in analysis.\n",
        "4. Systematically apply advanced awareness of ethical implications to advocate appropriate solutions.\n"
      ],
      "metadata": {
        "id": "vow84sVueCOp"
      }
    },
    {
      "cell_type": "markdown",
      "source": [
        "\n",
        "Please use these templates to create new Notebooks for consistency across courses and weeks:\n",
        "- [Demonstrations/videos](https://colab.research.google.com/drive/1xwO9vmyJRugO97nWD7t-cJLgwxa7sSLv?usp=drive_link)\n",
        "- [Activities](https://colab.research.google.com/drive/1ADe5K8kVrx36uTkE-7Fmbn2DKwT0oiym)"
      ],
      "metadata": {
        "id": "M6ybBGCHZEaK"
      }
    },
    {
      "cell_type": "markdown",
      "source": [
        "[**Demonstration 3.2.2** Recognising data that violates normality assumptions](https://colab.research.google.com/drive/16rpUGtul2iFFPKmydPFyNFcwKCpvLScS)"
      ],
      "metadata": {
        "id": "LLlytVjsa_uY"
      }
    },
    {
      "cell_type": "markdown",
      "source": [
        "[**Demonstration 3.2.3** Conducting Mann-Whitney U test and the Wilcoxon signed-rank test using Python](https://colab.research.google.com/drive/1bfqVamQe2vLBS5RIJdu1_ZaBDg83vzbX#scrollTo=pEnPzdHAJUfN)"
      ],
      "metadata": {
        "id": "63KmRDnya_pN"
      }
    },
    {
      "cell_type": "markdown",
      "source": [
        "[**Activity 3.2.4** Applying non-parametric tests to a data set](https://colab.research.google.com/drive/1oSi6oDBZkkCcSEENX9aoIp4-p0rrLZfM#scrollTo=t9BGqPnG_IdF)"
      ],
      "metadata": {
        "id": "zaQSgTNa-sFh"
      }
    },
    {
      "cell_type": "markdown",
      "source": [
        "[**Demonstration 3.3.1** Bayesian fundamentals: prior, likelihood, and posterior](https://colab.research.google.com/drive/16NXBvCNJNOsNbOf-2I0sC6qRV49vd3uL#scrollTo=kZmyfgL52RWk)"
      ],
      "metadata": {
        "id": "_6_vcO-i9rX_"
      }
    },
    {
      "cell_type": "markdown",
      "source": [
        "[**Demonstration 3.3.3** Using PyMC to implement a Bayesian model](https://colab.research.google.com/drive/1q0iW0EnQ3dbV2hbiH9_87yw-UU2f5B5R#scrollTo=KOvhHU78SWBr)"
      ],
      "metadata": {
        "id": "LvwXtyuu92G2"
      }
    },
    {
      "cell_type": "markdown",
      "source": [
        "[**Activity 3.3.4** Bayesian parameter estimation and hypothesis testing](https://colab.research.google.com/drive/1RZRCT1bAHGG3JjKFQulZe9Uncp9S3ein#scrollTo=NxjmVJ82UWKP)"
      ],
      "metadata": {
        "id": "nHIYtjJR-jo5"
      }
    },
    {
      "cell_type": "markdown",
      "source": [
        "## Week 3 Reflection\n",
        "Now that you have completed Week 3, it's time to reflect on your learning.\n",
        "\n",
        "**Reflection prompts:**\n",
        "1. What was the most interesting part of this week's learning? Why?\n",
        "2. What did you find the most challenging? Why?\n",
        "3. What, so far, will be the most applicable to your current or future career? Why?\n",
        "\n",
        "> Type your reflection here:"
      ],
      "metadata": {
        "id": "-lMWIw2yrEr9"
      }
    },
    {
      "cell_type": "markdown",
      "source": [
        "# Week 4: Engineering features and reducing dimensions\n",
        "\n",
        "**Throughout the week, you will learn to:**\n",
        "1. Systematically apply specialist methodological approaches to extract relevant features from diverse data sets.\n",
        "2. Tailor feature engineering methods to address specific data challenges, optimising feature representation for accurate analysis of complex problems.\n",
        "3. Synthesise and perform dimensionality reduction to effectively reduce data 4.dimensions while retaining meaningful patterns.\n",
        "4. Critically identify and define the strengths and limitations of applying principal component analysis and t-SNE."
      ],
      "metadata": {
        "id": "XXNjzj10eJFX"
      }
    },
    {
      "cell_type": "markdown",
      "source": [
        "\n",
        "Please use these templates to create new Notebooks for consistency across courses and weeks:\n",
        "- [Demonstrations/videos](https://colab.research.google.com/drive/1xwO9vmyJRugO97nWD7t-cJLgwxa7sSLv?usp=drive_link)\n",
        "- [Activities](https://colab.research.google.com/drive/1ADe5K8kVrx36uTkE-7Fmbn2DKwT0oiym)"
      ],
      "metadata": {
        "id": "JLVwzOsbZB9o"
      }
    },
    {
      "cell_type": "markdown",
      "source": [
        "[**Demonstration 4.1.2** Identifying types of data and features](https://colab.research.google.com/drive/1XJhJJ8O1Hpwr-HyekCpyYTqvoC-Kdc6V?usp=sharing)"
      ],
      "metadata": {
        "id": "6FVuXIcgg6xH"
      }
    },
    {
      "cell_type": "markdown",
      "source": [
        "[**Demonstration 4.1.3** Handling missing values](https://colab.research.google.com/drive/1rQZ15l1Nk1QHZ3qZzmbZ5gO81puTz1YX?usp=sharing)"
      ],
      "metadata": {
        "id": "PTG9j8r9yHZt"
      }
    },
    {
      "cell_type": "markdown",
      "source": [
        "[**Demonstration 4.1.4** Dealing with categorical data](https://colab.research.google.com/drive/1eF_2UtsbZmhp8zC9modgLlPPHGbMpHfl?usp=drive_link)"
      ],
      "metadata": {
        "id": "kmJSYiUvApnD"
      }
    },
    {
      "cell_type": "markdown",
      "source": [
        "[**Demonstration 4.1.5** Feature scaling](https://colab.research.google.com/drive/1HzHOIVu6ZgLY4rmMZU2IT4Y2wjieC1ku#scrollTo=mG66KYjAfv4u)"
      ],
      "metadata": {
        "id": "Utzbj0W9m1fZ"
      }
    },
    {
      "cell_type": "markdown",
      "source": [
        "[**Demonstration 4.1.6** Feature selection and extraction](https://colab.research.google.com/drive/1yJbbAkYXD93gstuMjYxxstfedwj6f8s8?usp=sharing)\n",
        "\n"
      ],
      "metadata": {
        "id": "J7DqX6u3A2Dz"
      }
    },
    {
      "cell_type": "markdown",
      "source": [
        "[**Activity 4.1.7** Selecting features](https://colab.research.google.com/drive/1HPMePzE3zAOELWb9z_eBTxWmCD9KoiNg?usp=sharing)"
      ],
      "metadata": {
        "id": "_wRFhLrNBPQ0"
      }
    },
    {
      "cell_type": "markdown",
      "source": [
        "[**Demonstration 4.2.2** Exploring PCA](https://colab.research.google.com/drive/1GwZC239AVLumaAVBFJwYqBTYaOMMiId6?usp=sharing)"
      ],
      "metadata": {
        "id": "r_hjWD7hHZP9"
      }
    },
    {
      "cell_type": "markdown",
      "source": [
        "[**Demonstration 4.2.3** Exploring t-SNE](https://colab.research.google.com/drive/16GorUlBlV8bJFDybmfAmbEuU-2LdQhfK?usp=sharing)"
      ],
      "metadata": {
        "id": "OjryiTWrHy99"
      }
    },
    {
      "cell_type": "markdown",
      "source": [
        "[**Activity 4.2.4** Implementing PCA and t-SNE (facilitated)](https://colab.research.google.com/drive/14FjN4KI1zDtaVSJppUmMaYSroj3bn-6Q?usp=sharing)"
      ],
      "metadata": {
        "id": "_IlxJjzAAkG4"
      }
    },
    {
      "cell_type": "markdown",
      "source": [
        "## Week 4 Reflection\n",
        "Now that you've completed Week 4, it's time to reflect on your learning.\n",
        "\n",
        "**Reflection prompts:**\n",
        "1. What was the most interesting part of this week's learning? Why?\n",
        "2. What did you find the most challenging? Why?\n",
        "3. What, so far, will be the most applicable to your current or future career? Why?\n",
        "\n",
        "> Type your reflection here:"
      ],
      "metadata": {
        "id": "4SjDBYe6aZ5T"
      }
    },
    {
      "cell_type": "markdown",
      "source": [
        "# Week 5: Detecting anomalies with unsupervised learning\n",
        "\n",
        "**Throughout the week, you will learn to:**\n",
        "1. Synthesise the concept of anomaly detection and define its importance in data science and organisational applications.\n",
        "2. Systematically select and apply statistical methods such as Z-score and IQR to detect anomalies in complex data sets.\n",
        "3. Critically evaluate the effectiveness of ML methods to detect anomalies in complex data sets.\n",
        "4. Critically select and apply advanced anomaly detection principles, concepts, and approaches to create innovative solutions to a real-world organisational scenario."
      ],
      "metadata": {
        "id": "MgR8VoTfeMhH"
      }
    },
    {
      "cell_type": "markdown",
      "source": [
        "\n",
        "Please use these templates to create new Notebooks for consistency across courses and weeks:\n",
        "- [Demonstrations/videos](https://colab.research.google.com/drive/1xwO9vmyJRugO97nWD7t-cJLgwxa7sSLv?usp=drive_link)\n",
        "- [Activities](https://colab.research.google.com/drive/1ADe5K8kVrx36uTkE-7Fmbn2DKwT0oiym)"
      ],
      "metadata": {
        "id": "n-UNUMA1WCbM"
      }
    },
    {
      "cell_type": "markdown",
      "source": [
        "[Demonstration 5.1.2 Identifying anomalies using Z-score](https://colab.research.google.com/drive/1vDmyPLrOX1RrSJIen1ebe8tMGOI4TTor)"
      ],
      "metadata": {
        "id": "VhWwgF5-rRGk"
      }
    },
    {
      "cell_type": "markdown",
      "source": [
        "[Demonstration 5.1.3 Detecting anomalies with IQR](https://colab.research.google.com/drive/1tHMRq6G3iUpnuR6xHf1QBBytpi-LFxUX)"
      ],
      "metadata": {
        "id": "O_QiBLls-zud"
      }
    },
    {
      "cell_type": "markdown",
      "source": [
        "[Demonstration 5.2.1 Using ML algorithms for anomaly detection](https://colab.research.google.com/drive/1oNCtYs9eHiTcVysJ316-WzDvS-YcV67k)"
      ],
      "metadata": {
        "id": "RUbRFsgo-zWp"
      }
    },
    {
      "cell_type": "markdown",
      "source": [
        "[Demonstration 5.2.2 Applying one-class support vector machine](https://colab.research.google.com/drive/1t5p7Fme8FVENhmEDQKh9IhWZLUYWaXRa)"
      ],
      "metadata": {
        "id": "NmEQSxty-yid"
      }
    },
    {
      "cell_type": "markdown",
      "source": [
        "[Demonstration 5.2.3 Applying isolation forest methodologies](https://colab.research.google.com/drive/1UWw4m0EnBGxrhfSWBnkTEBSxc8_2t65D)"
      ],
      "metadata": {
        "id": "TaTgxK44oUma"
      }
    },
    {
      "cell_type": "markdown",
      "source": [
        "[Mini-project 5.3.1 Mini-project: Identifying fraud with anomaly detection](https://colab.research.google.com/drive/1VCcq2_mgQ6aK_QhjxMBwo5oRMfnUkv6c)"
      ],
      "metadata": {
        "id": "s-sxbcECrRB-"
      }
    },
    {
      "cell_type": "markdown",
      "source": [
        "## Week 5 Reflection\n",
        "Now that you have completed Week 5, it's time to reflect on your learning.\n",
        "\n",
        "**Reflection prompts:**\n",
        "1. What was the most interesting part of this week's learning? Why?\n",
        "2. What did you find the most challenging? Why?\n",
        "3. What, so far, will be the most applicable to your current or future career? Why?\n",
        "\n",
        "> Type your reflection here:"
      ],
      "metadata": {
        "id": "_Ow0m9YOrQ95"
      }
    },
    {
      "cell_type": "markdown",
      "source": [
        "# Week 6: Performing clustering with unsupervised learning\n",
        "\n",
        "**Throughout the week, you will learn to:**\n",
        "1. Synthesise and apply K-means clustering, including logic, partitioning methods, and the optimal number of clusters.\n",
        "2. Synthesise and apply the principles of Hierarchical Clustering, including agglomerative approaches, distance metrics, and cluster evaluation.\n",
        "3. Critically select and apply advanced clustering principles, concepts, and approaches to create innovative solutions to a real-world organisational scenario.\n"
      ],
      "metadata": {
        "id": "7Qn6X31DeQk3"
      }
    },
    {
      "cell_type": "markdown",
      "source": [
        "\n",
        "Please use these templates to create new Notebooks for consistency across courses and weeks:\n",
        "- [Demonstrations/videos](https://colab.research.google.com/drive/1xwO9vmyJRugO97nWD7t-cJLgwxa7sSLv?usp=drive_link)\n",
        "- [Activities](https://colab.research.google.com/drive/1ADe5K8kVrx36uTkE-7Fmbn2DKwT0oiym)"
      ],
      "metadata": {
        "id": "iUWzmWqIZPZm"
      }
    },
    {
      "cell_type": "markdown",
      "source": [],
      "metadata": {
        "id": "9p5qqboorU6W"
      }
    },
    {
      "cell_type": "markdown",
      "source": [],
      "metadata": {
        "id": "9uEYjBUwrU30"
      }
    },
    {
      "cell_type": "markdown",
      "source": [],
      "metadata": {
        "id": "-rAOAXpjrUyG"
      }
    },
    {
      "cell_type": "markdown",
      "source": [
        "## Week 6 Reflection\n",
        "Now that you have completed Week 6, it's time to reflect on your learning.\n",
        "\n",
        "**Reflection prompts:**\n",
        "1. What was the most interesting part of this week's learning? Why?\n",
        "2. What did you find the most challenging? Why?\n",
        "3. What, so far, will be the most applicable to your current or future career? Why?\n",
        "\n",
        "> Type your reflection here:"
      ],
      "metadata": {
        "id": "dDUN96chrUtF"
      }
    },
    {
      "cell_type": "markdown",
      "source": [
        "# Course 101: Reflection\n",
        "Now that you have completed Course 101, it's time to reflect on your learning.\n",
        "\n",
        "**Reflection prompts:**\n",
        "1. What are the key concepts and skills you have learned in this course? Why?\n",
        "2. How do you foresee applying the concepts and skills you acquired in real-world situations or future endeavors? Why?\n",
        "3. Can you identify any challenges you faced during this course and explain how you overcame them?\n",
        "4. How has this course influenced your perspective or understanding of applying statistics and core data science techniques in business? Why?\n",
        "\n",
        "> Type your reflection here:\n",
        "\n",
        "\n"
      ],
      "metadata": {
        "id": "UHxwST0S6UcQ"
      }
    }
  ]
}